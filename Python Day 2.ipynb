{
 "cells": [
  {
   "cell_type": "markdown",
   "metadata": {},
   "source": [
    "### Day - 2 Python Examples"
   ]
  },
  {
   "cell_type": "markdown",
   "metadata": {},
   "source": [
    "### Input/Output examples"
   ]
  },
  {
   "cell_type": "code",
   "execution_count": 1,
   "metadata": {},
   "outputs": [
    {
     "name": "stdout",
     "output_type": "stream",
     "text": [
      "Hello, World!\n"
     ]
    },
    {
     "name": "stdin",
     "output_type": "stream",
     "text": [
      "What is your name?  Jay Thakkar\n"
     ]
    },
    {
     "name": "stdout",
     "output_type": "stream",
     "text": [
      "Nice to meet you, Jay Thakkar!\n"
     ]
    },
    {
     "name": "stdin",
     "output_type": "stream",
     "text": [
      "What is your age?  11\n"
     ]
    },
    {
     "name": "stdout",
     "output_type": "stream",
     "text": [
      "You are 11 years old.\n"
     ]
    }
   ],
   "source": [
    "print(\"Hello, World!\")\n",
    "name = input(\"What is your name? \")\n",
    "print(f\"Nice to meet you, {name}!\")\n",
    "age = int(input(\"What is your age? \"))\n",
    "print(f\"You are {age} years old.\")"
   ]
  },
  {
   "cell_type": "markdown",
   "metadata": {},
   "source": [
    "#### Comment examples"
   ]
  },
  {
   "cell_type": "code",
   "execution_count": 9,
   "metadata": {},
   "outputs": [
    {
     "name": "stdout",
     "output_type": "stream",
     "text": [
      "HI\n",
      "Hi\n"
     ]
    }
   ],
   "source": [
    "# This is a single-line comment\n",
    "\n",
    "\"\"\"\n",
    "This is a\n",
    "multi-line comment\n",
    "\"\"\"\n",
    "\n",
    "print(\"HI\") # This way we comment\n",
    "\n",
    "# Print Hi (in this way also we can comment)\n",
    "print(\"Hi\")"
   ]
  },
  {
   "cell_type": "markdown",
   "metadata": {},
   "source": [
    "#### Variable examples"
   ]
  },
  {
   "cell_type": "code",
   "execution_count": 3,
   "metadata": {},
   "outputs": [],
   "source": [
    "x = 10\n",
    "y = 3.14\n",
    "name = \"Alice\"\n",
    "is_student = True\n",
    "count = 0\n",
    "total = 0.0\n",
    "message = \"\"\n",
    "flag = False"
   ]
  },
  {
   "cell_type": "markdown",
   "metadata": {},
   "source": [
    "#### Data type examples"
   ]
  },
  {
   "cell_type": "code",
   "execution_count": 4,
   "metadata": {},
   "outputs": [],
   "source": [
    "integer = 42\n",
    "float_num = 3.14\n",
    "complex_num = 3 + 4j\n",
    "string = \"Hello, Python!\"\n",
    "boolean = True\n",
    "list_example = [1, 2, 3, 4, 5]\n",
    "tuple_example = (1, 2, 3, 4, 5)\n",
    "set_example = {1, 2, 3, 4, 5}\n",
    "dict_example = {\"name\": \"Alice\", \"age\": 25}"
   ]
  },
  {
   "cell_type": "markdown",
   "metadata": {},
   "source": [
    "#### Typecasting examples"
   ]
  },
  {
   "cell_type": "code",
   "execution_count": 5,
   "metadata": {},
   "outputs": [],
   "source": [
    "int_from_float = int(3.14)\n",
    "float_from_int = float(42)\n",
    "str_from_int = str(123)\n",
    "int_from_str = int(\"456\")\n",
    "float_from_str = float(\"3.14\")\n",
    "bool_from_str = bool(\"True\")"
   ]
  },
  {
   "cell_type": "markdown",
   "metadata": {},
   "source": [
    "#### More data type examples"
   ]
  },
  {
   "cell_type": "code",
   "execution_count": 6,
   "metadata": {},
   "outputs": [],
   "source": [
    "list_of_strings = [\"apple\", \"banana\", \"cherry\"]\n",
    "tuple_of_tuples = ((1, 2), (3, 4), (5, 6))\n",
    "set_of_tuples = {(1, 2), (3, 4), (5, 6)} \n",
    "dict_of_lists = {\"fruits\": [\"apple\", \"banana\"], \"vegetables\": [\"carrot\", \"spinach\"]}"
   ]
  },
  {
   "cell_type": "markdown",
   "metadata": {},
   "source": [
    "#### More typecasting examples"
   ]
  },
  {
   "cell_type": "code",
   "execution_count": 7,
   "metadata": {},
   "outputs": [],
   "source": [
    "int_from_bool = int(True)\n",
    "float_from_bool = float(False)\n",
    "str_from_list = str([1, 2, 3])\n",
    "list_from_str = list(\"Python\")\n",
    "tuple_from_list = tuple([1, 2, 3])\n",
    "set_from_list = set([1, 2, 3, 2, 1])"
   ]
  },
  {
   "cell_type": "code",
   "execution_count": null,
   "metadata": {},
   "outputs": [],
   "source": []
  }
 ],
 "metadata": {
  "kernelspec": {
   "display_name": "Python 3 (ipykernel)",
   "language": "python",
   "name": "python3"
  },
  "language_info": {
   "codemirror_mode": {
    "name": "ipython",
    "version": 3
   },
   "file_extension": ".py",
   "mimetype": "text/x-python",
   "name": "python",
   "nbconvert_exporter": "python",
   "pygments_lexer": "ipython3",
   "version": "3.10.14"
  }
 },
 "nbformat": 4,
 "nbformat_minor": 4
}
